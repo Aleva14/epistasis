{
 "cells": [
  {
   "cell_type": "code",
   "execution_count": 1,
   "metadata": {},
   "outputs": [],
   "source": [
    "import pandas as pd\n",
    "import pandas as pd\n",
    "import matplotlib.pyplot as plt\n",
    "import numpy as np\n",
    "import seaborn as sns\n",
    "import math\n",
    "\n",
    "from scipy.optimize import curve_fit\n",
    "from scipy.stats import pearsonr\n",
    "\n",
    "%matplotlib inline\n",
    "pd.options.display.max_columns = None"
   ]
  },
  {
   "cell_type": "code",
   "execution_count": 2,
   "metadata": {},
   "outputs": [
    {
     "name": "stderr",
     "output_type": "stream",
     "text": [
      "/usr/local/lib/python3.6/dist-packages/IPython/core/interactiveshell.py:2785: DtypeWarning: Columns (6,7,8,9) have mixed types. Specify dtype option on import or set low_memory=False.\n",
      "  interactivity=interactivity, compiler=compiler, result=result)\n"
     ]
    }
   ],
   "source": [
    "df = pd.read_csv('random.tsv', sep='\\t').drop(columns=['M_conf'], axis=1)\n",
    "df = df[df['IM_ddG'] != '-']"
   ]
  },
  {
   "cell_type": "code",
   "execution_count": 3,
   "metadata": {},
   "outputs": [],
   "source": [
    "for col in ['FX_ddG', 'IM_ddG', 'M_ddG']:\n",
    "    df[col] = pd.to_numeric(df[col], errors='raise')\n",
    "    \n",
    "df = df[(df['FX_ddG'] < 20) & (df['FX_ddG'] > -20)]"
   ]
  },
  {
   "cell_type": "code",
   "execution_count": 4,
   "metadata": {},
   "outputs": [
    {
     "name": "stdout",
     "output_type": "stream",
     "text": [
      "<class 'pandas.core.frame.DataFrame'>\n",
      "Int64Index: 183467 entries, 0 to 187739\n",
      "Data columns (total 9 columns):\n",
      "PDB       183467 non-null object\n",
      "CHAIN     183467 non-null object\n",
      "POS       183467 non-null int64\n",
      "AA1       183467 non-null object\n",
      "AA2       183467 non-null object\n",
      "Error     183467 non-null object\n",
      "FX_ddG    183467 non-null float64\n",
      "IM_ddG    183467 non-null float64\n",
      "M_ddG     183467 non-null float64\n",
      "dtypes: float64(3), int64(1), object(5)\n",
      "memory usage: 14.0+ MB\n"
     ]
    }
   ],
   "source": [
    "df.info()"
   ]
  },
  {
   "cell_type": "code",
   "execution_count": 5,
   "metadata": {},
   "outputs": [
    {
     "data": {
      "text/html": [
       "<div>\n",
       "<style scoped>\n",
       "    .dataframe tbody tr th:only-of-type {\n",
       "        vertical-align: middle;\n",
       "    }\n",
       "\n",
       "    .dataframe tbody tr th {\n",
       "        vertical-align: top;\n",
       "    }\n",
       "\n",
       "    .dataframe thead th {\n",
       "        text-align: right;\n",
       "    }\n",
       "</style>\n",
       "<table border=\"1\" class=\"dataframe\">\n",
       "  <thead>\n",
       "    <tr style=\"text-align: right;\">\n",
       "      <th></th>\n",
       "      <th>PDB</th>\n",
       "      <th>CHAIN</th>\n",
       "      <th>POS</th>\n",
       "      <th>AA1</th>\n",
       "      <th>AA2</th>\n",
       "      <th>Error</th>\n",
       "      <th>FX_ddG</th>\n",
       "      <th>IM_ddG</th>\n",
       "      <th>M_ddG</th>\n",
       "    </tr>\n",
       "  </thead>\n",
       "  <tbody>\n",
       "    <tr>\n",
       "      <th>0</th>\n",
       "      <td>1a0e</td>\n",
       "      <td>D</td>\n",
       "      <td>1</td>\n",
       "      <td>A</td>\n",
       "      <td>C</td>\n",
       "      <td>No</td>\n",
       "      <td>0.166930</td>\n",
       "      <td>0.69</td>\n",
       "      <td>-0.010546</td>\n",
       "    </tr>\n",
       "    <tr>\n",
       "      <th>1</th>\n",
       "      <td>1a0e</td>\n",
       "      <td>D</td>\n",
       "      <td>1</td>\n",
       "      <td>A</td>\n",
       "      <td>E</td>\n",
       "      <td>No</td>\n",
       "      <td>0.523503</td>\n",
       "      <td>0.39</td>\n",
       "      <td>-0.155882</td>\n",
       "    </tr>\n",
       "    <tr>\n",
       "      <th>2</th>\n",
       "      <td>1a0e</td>\n",
       "      <td>D</td>\n",
       "      <td>1</td>\n",
       "      <td>A</td>\n",
       "      <td>G</td>\n",
       "      <td>No</td>\n",
       "      <td>-0.148323</td>\n",
       "      <td>0.83</td>\n",
       "      <td>0.101193</td>\n",
       "    </tr>\n",
       "    <tr>\n",
       "      <th>3</th>\n",
       "      <td>1a0e</td>\n",
       "      <td>D</td>\n",
       "      <td>1</td>\n",
       "      <td>A</td>\n",
       "      <td>Q</td>\n",
       "      <td>No</td>\n",
       "      <td>0.121549</td>\n",
       "      <td>0.42</td>\n",
       "      <td>-0.153705</td>\n",
       "    </tr>\n",
       "    <tr>\n",
       "      <th>4</th>\n",
       "      <td>1a0e</td>\n",
       "      <td>D</td>\n",
       "      <td>1</td>\n",
       "      <td>A</td>\n",
       "      <td>R</td>\n",
       "      <td>No</td>\n",
       "      <td>-0.215640</td>\n",
       "      <td>0.21</td>\n",
       "      <td>-0.384062</td>\n",
       "    </tr>\n",
       "  </tbody>\n",
       "</table>\n",
       "</div>"
      ],
      "text/plain": [
       "    PDB CHAIN  POS AA1 AA2 Error    FX_ddG  IM_ddG     M_ddG\n",
       "0  1a0e     D    1   A   C    No  0.166930    0.69 -0.010546\n",
       "1  1a0e     D    1   A   E    No  0.523503    0.39 -0.155882\n",
       "2  1a0e     D    1   A   G    No -0.148323    0.83  0.101193\n",
       "3  1a0e     D    1   A   Q    No  0.121549    0.42 -0.153705\n",
       "4  1a0e     D    1   A   R    No -0.215640    0.21 -0.384062"
      ]
     },
     "execution_count": 5,
     "metadata": {},
     "output_type": "execute_result"
    }
   ],
   "source": [
    "df.head()"
   ]
  },
  {
   "cell_type": "code",
   "execution_count": 109,
   "metadata": {},
   "outputs": [
    {
     "data": {
      "image/png": "[encoded data removed]",
      "text/plain": [
       "<Figure size 432x288 with 1 Axes>"
      ]
     },
     "metadata": {},
     "output_type": "display_data"
    }
   ],
   "source": [
    "fig = plt.figure() \n",
    "for i in list(set(df['PDB']))[1:50]:\n",
    "    tmp = df[df['PDB'] == i].FX_ddG\n",
    "    tmp.hist(bins = 30, stacked=False, density=True)\n",
    "plt.title('FoldX ddG distributions')\n",
    "plt.xlabel('ddG')\n",
    "plt.show()"
   ]
  },
  {
   "cell_type": "code",
   "execution_count": 110,
   "metadata": {},
   "outputs": [
    {
     "data": {
      "image/png": "[encoded data removed]",
      "text/plain": [
       "<Figure size 432x288 with 1 Axes>"
      ]
     },
     "metadata": {},
     "output_type": "display_data"
    }
   ],
   "source": [
    "fig = plt.figure()\n",
    "for i in list(set(df['PDB']))[1:50]:\n",
    "    tmp = df[df['PDB'] == i].M_ddG\n",
    "    tmp.hist(bins = 30, stacked=False, density=True)\n",
    "plt.title('Maestro ddG distributions')\n",
    "plt.xlabel('ddG')\n",
    "plt.show()"
   ]
  },
  {
   "cell_type": "code",
   "execution_count": 111,
   "metadata": {},
   "outputs": [
    {
     "data": {
      "image/png": "[encoded data removed]",
      "text/plain": [
       "<Figure size 432x288 with 1 Axes>"
      ]
     },
     "metadata": {},
     "output_type": "display_data"
    }
   ],
   "source": [
    "fig = plt.figure()\n",
    "for i in list(set(df['PDB']))[1:50]:\n",
    "    tmp = df[df['PDB'] == i].IM_ddG\n",
    "    tmp.hist(bins = 30, stacked=False, density=True)\n",
    "plt.title('I-Mutant ddG distributions')\n",
    "plt.xlabel('ddG')\n",
    "plt.show()"
   ]
  },
  {
   "cell_type": "markdown",
   "metadata": {},
   "source": [
    "В статье (doi:10.1016/j.jmb.2007.03.069) говорится, что распределение $ddG$ можно приблизить с помощью суммы двух нормальных распределений. Первое из них имеет меньшее среднее и описывает эффект мутаций аминокислот, находящихся на поверхности глобулы, второе описывает мутации, происходящие внутри глобулы. $P$ - параметр, для каждого белка свой."
   ]
  },
  {
   "cell_type": "markdown",
   "metadata": {},
   "source": [
    "$$F_{bi-Gaussian}(x) = \\frac{P}{\\sqrt{2\\pi\\sigma_1^2}}\\exp[\\frac{-(x - \\mu_1)^2}{2 \\sigma_1^2}] + \n",
    "                            \\frac{1 - P}{\\sqrt{2\\pi\\sigma_2^2}}\\exp[\\frac{-(x - \\mu_2)^2}{2 \\sigma_2^2}]$$"
   ]
  },
  {
   "cell_type": "markdown",
   "metadata": {},
   "source": [
    "$$\\mu_1 = 0.56 \\pm 0.12$$"
   ]
  },
  {
   "cell_type": "markdown",
   "metadata": {},
   "source": [
    "$$\\sigma_1 = 0.9 \\pm 0.16$$"
   ]
  },
  {
   "cell_type": "markdown",
   "metadata": {},
   "source": [
    "$$\\mu_2 = 1.96 \\pm 0.53$$"
   ]
  },
  {
   "cell_type": "markdown",
   "metadata": {},
   "source": [
    "$$\\sigma_2 = 1.93 \\pm 0.29$$"
   ]
  },
  {
   "cell_type": "code",
   "execution_count": 10,
   "metadata": {},
   "outputs": [],
   "source": [
    "# Gaussian parameters\n",
    "\n",
    "constant = 1\n",
    "sigma1 = 0.9\n",
    "mu1 = 0.56\n",
    "sigma2 = 1.93\n",
    "mu2 = 1.96"
   ]
  },
  {
   "cell_type": "code",
   "execution_count": 11,
   "metadata": {},
   "outputs": [],
   "source": [
    "def bi_gaussian(X, P=0.5):\n",
    "    x = np.array(X)\n",
    "    a1 = P / math.sqrt(2 * math.pi * sigma1 ** 2)\n",
    "    a2 = (1 - P) / math.sqrt(2 * math.pi * sigma2 ** 2)\n",
    "    e1 = np.exp(-np.square(x - mu1)  / (2 * sigma1 ** 2) )\n",
    "    e2 = np.exp(-np.square(x - mu2) / (2 * sigma2 ** 2) )\n",
    "    return constant * (a1 * e1 + a2 * e2)"
   ]
  },
  {
   "cell_type": "code",
   "execution_count": 12,
   "metadata": {},
   "outputs": [
    {
     "data": {
      "text/plain": [
       "Text(0.5,0,'ddG')"
      ]
     },
     "execution_count": 12,
     "metadata": {},
     "output_type": "execute_result"
    },
    {
     "data": {
      "image/png": "[encoded data removed]",
      "text/plain": [
       "<Figure size 432x288 with 1 Axes>"
      ]
     },
     "metadata": {},
     "output_type": "display_data"
    }
   ],
   "source": [
    "ddG_range = np.linspace(-10, 10, 50)\n",
    "for p in np.linspace(0, 1, 10):\n",
    "    plt.plot(ddG_range, bi_gaussian(ddG_range, p))\n",
    "plt.title('Bi-gaussian')\n",
    "plt.xlabel('ddG')"
   ]
  },
  {
   "cell_type": "code",
   "execution_count": 13,
   "metadata": {},
   "outputs": [],
   "source": [
    "def fit_to_bi_gaussian(pdb, program):\n",
    "    ydata, xdata = np.histogram(df[df['PDB'] == pdb][program +'_ddG'], bins = 50, density=True)\n",
    "    xdata = np.array([np.mean([xdata[i], xdata[i + 1]]) for i in range(len(xdata) - 1)]) # centers of bins\n",
    "    popt, pcov = curve_fit(bi_gaussian, xdata, ydata, bounds = [0,1])\n",
    "    result.loc[pdb, program +'_P'] = popt[0]\n",
    "    result.loc[pdb, program +'_sigma'] = math.sqrt(pcov[0])\n",
    "    y_opt = bi_gaussian(xdata, popt[0])\n",
    "    R, p_val = pearsonr(ydata, y_opt)\n",
    "    result.loc[pdb, program +'_R'] = R"
   ]
  },
  {
   "cell_type": "code",
   "execution_count": 16,
   "metadata": {},
   "outputs": [],
   "source": [
    "result = pd.DataFrame(index=list(set(df['PDB'])), columns=['FX_median', 'FX_P', 'FX_sigma', 'FX_R',\n",
    "                                                           'M_median', 'M_P', 'M_sigma', 'M_R',\n",
    "                                                           'IM_median', 'IM_P', 'IM_sigma', 'IM_R'])\n",
    "    \n",
    "    \n",
    "for pdb in list(set(df['PDB'])):\n",
    "    stat = df[df['PDB'] == pdb].describe()\n",
    "    result.loc[pdb, 'FX_median'] = stat.loc['50%', 'FX_ddG']\n",
    "    result.loc[pdb, 'M_median'] = stat.loc['50%', 'M_ddG']\n",
    "    result.loc[pdb, 'IM_median'] = stat.loc['50%', 'IM_ddG']\n",
    "    \n",
    "    for program in ['FX', 'M', 'IM']:\n",
    "        fit_to_bi_gaussian(pdb, program)"
   ]
  },
  {
   "cell_type": "code",
   "execution_count": 39,
   "metadata": {},
   "outputs": [],
   "source": [
    "for col in result.columns:\n",
    "    result[col] = pd.to_numeric(result[col], errors='raise')"
   ]
  },
  {
   "cell_type": "code",
   "execution_count": 37,
   "metadata": {},
   "outputs": [
    {
     "data": {
      "text/html": [
       "<div>\n",
       "<style scoped>\n",
       "    .dataframe tbody tr th:only-of-type {\n",
       "        vertical-align: middle;\n",
       "    }\n",
       "\n",
       "    .dataframe tbody tr th {\n",
       "        vertical-align: top;\n",
       "    }\n",
       "\n",
       "    .dataframe thead th {\n",
       "        text-align: right;\n",
       "    }\n",
       "</style>\n",
       "<table border=\"1\" class=\"dataframe\">\n",
       "  <thead>\n",
       "    <tr style=\"text-align: right;\">\n",
       "      <th></th>\n",
       "      <th>FX_median</th>\n",
       "      <th>FX_P</th>\n",
       "      <th>FX_sigma</th>\n",
       "      <th>FX_R</th>\n",
       "      <th>M_median</th>\n",
       "      <th>M_P</th>\n",
       "      <th>M_sigma</th>\n",
       "      <th>M_R</th>\n",
       "      <th>IM_median</th>\n",
       "      <th>IM_P</th>\n",
       "      <th>IM_sigma</th>\n",
       "      <th>IM_R</th>\n",
       "    </tr>\n",
       "  </thead>\n",
       "  <tbody>\n",
       "    <tr>\n",
       "      <th>2wc2</th>\n",
       "      <td>0.593613</td>\n",
       "      <td>0.608151</td>\n",
       "      <td>0.051331</td>\n",
       "      <td>0.936309</td>\n",
       "      <td>-0.584177</td>\n",
       "      <td>0.145627</td>\n",
       "      <td>0.106267</td>\n",
       "      <td>0.228036</td>\n",
       "      <td>0.90</td>\n",
       "      <td>0.838357</td>\n",
       "      <td>0.072073</td>\n",
       "      <td>0.872781</td>\n",
       "    </tr>\n",
       "    <tr>\n",
       "      <th>3l1e</th>\n",
       "      <td>0.592670</td>\n",
       "      <td>0.759241</td>\n",
       "      <td>0.062389</td>\n",
       "      <td>0.922334</td>\n",
       "      <td>0.290550</td>\n",
       "      <td>0.966779</td>\n",
       "      <td>0.101630</td>\n",
       "      <td>0.792720</td>\n",
       "      <td>0.91</td>\n",
       "      <td>0.936238</td>\n",
       "      <td>0.084345</td>\n",
       "      <td>0.865048</td>\n",
       "    </tr>\n",
       "    <tr>\n",
       "      <th>1sce</th>\n",
       "      <td>0.623354</td>\n",
       "      <td>0.639496</td>\n",
       "      <td>0.051075</td>\n",
       "      <td>0.939510</td>\n",
       "      <td>0.683900</td>\n",
       "      <td>0.631808</td>\n",
       "      <td>0.051353</td>\n",
       "      <td>0.868719</td>\n",
       "      <td>0.67</td>\n",
       "      <td>1.000000</td>\n",
       "      <td>0.072390</td>\n",
       "      <td>0.920811</td>\n",
       "    </tr>\n",
       "    <tr>\n",
       "      <th>2a1t</th>\n",
       "      <td>1.492405</td>\n",
       "      <td>0.299155</td>\n",
       "      <td>0.026212</td>\n",
       "      <td>0.985148</td>\n",
       "      <td>-0.081539</td>\n",
       "      <td>1.000000</td>\n",
       "      <td>0.335216</td>\n",
       "      <td>0.039235</td>\n",
       "      <td>0.87</td>\n",
       "      <td>1.000000</td>\n",
       "      <td>0.082481</td>\n",
       "      <td>0.882219</td>\n",
       "    </tr>\n",
       "    <tr>\n",
       "      <th>1wyi</th>\n",
       "      <td>1.150220</td>\n",
       "      <td>0.406024</td>\n",
       "      <td>0.039589</td>\n",
       "      <td>0.958652</td>\n",
       "      <td>0.071559</td>\n",
       "      <td>1.000000</td>\n",
       "      <td>0.127349</td>\n",
       "      <td>0.660771</td>\n",
       "      <td>0.86</td>\n",
       "      <td>0.905115</td>\n",
       "      <td>0.063614</td>\n",
       "      <td>0.917152</td>\n",
       "    </tr>\n",
       "  </tbody>\n",
       "</table>\n",
       "</div>"
      ],
      "text/plain": [
       "      FX_median      FX_P  FX_sigma      FX_R  M_median       M_P   M_sigma  \\\n",
       "2wc2   0.593613  0.608151  0.051331  0.936309 -0.584177  0.145627  0.106267   \n",
       "3l1e   0.592670  0.759241  0.062389  0.922334  0.290550  0.966779  0.101630   \n",
       "1sce   0.623354  0.639496  0.051075  0.939510  0.683900  0.631808  0.051353   \n",
       "2a1t   1.492405  0.299155  0.026212  0.985148 -0.081539  1.000000  0.335216   \n",
       "1wyi   1.150220  0.406024  0.039589  0.958652  0.071559  1.000000  0.127349   \n",
       "\n",
       "           M_R  IM_median      IM_P  IM_sigma      IM_R  \n",
       "2wc2  0.228036       0.90  0.838357  0.072073  0.872781  \n",
       "3l1e  0.792720       0.91  0.936238  0.084345  0.865048  \n",
       "1sce  0.868719       0.67  1.000000  0.072390  0.920811  \n",
       "2a1t  0.039235       0.87  1.000000  0.082481  0.882219  \n",
       "1wyi  0.660771       0.86  0.905115  0.063614  0.917152  "
      ]
     },
     "execution_count": 37,
     "metadata": {},
     "output_type": "execute_result"
    }
   ],
   "source": [
    "result.head()"
   ]
  },
  {
   "cell_type": "code",
   "execution_count": 112,
   "metadata": {},
   "outputs": [
    {
     "data": {
      "image/png": "[encoded data removed]",
      "text/plain": [
       "<Figure size 432x288 with 1 Axes>"
      ]
     },
     "metadata": {},
     "output_type": "display_data"
    }
   ],
   "source": [
    "plt.boxplot([result.FX_median, result.M_median, result.IM_median], labels=['FoldX', 'Maestro', 'I-Mutant']);\n",
    "plt.title('Medians for different programs')\n",
    "plt.ylabel('ddG');"
   ]
  },
  {
   "cell_type": "code",
   "execution_count": 45,
   "metadata": {},
   "outputs": [
    {
     "data": {
      "image/png": "[encoded data removed]",
      "text/plain": [
       "<Figure size 432x288 with 1 Axes>"
      ]
     },
     "metadata": {},
     "output_type": "display_data"
    }
   ],
   "source": [
    "plt.boxplot([result.FX_R, result.M_R, result.IM_R], labels=['FoldX', 'Maestro', 'I-Mutant']);\n",
    "plt.title('Coefficient of correlation')\n",
    "plt.ylabel('R');"
   ]
  },
  {
   "cell_type": "markdown",
   "metadata": {},
   "source": [
    "Получилось, что для FoldX и I-Mutant эта модель более менее подходит, для Maestro - нет. Можно подобрать средние и дисперсии заново для каждой программы."
   ]
  },
  {
   "cell_type": "code",
   "execution_count": 81,
   "metadata": {},
   "outputs": [],
   "source": [
    "m_gauss = pd.DataFrame(index=list(set(df['PDB'])), columns=['P', 'mu1', 'mu2', 'sigma1', 'sigma2'])\n",
    "im_gauss = pd.DataFrame(index=list(set(df['PDB'])), columns=['P', 'mu1', 'mu2', 'sigma1', 'sigma2'])\n",
    "fx_gauss = pd.DataFrame(index=list(set(df['PDB'])), columns=['P', 'mu1', 'mu2', 'sigma1', 'sigma2'])"
   ]
  },
  {
   "cell_type": "code",
   "execution_count": 82,
   "metadata": {},
   "outputs": [],
   "source": [
    "def bi_gaussian_param(X, P, mu1, mu2, sigma1, sigma2):\n",
    "    x = np.array(X)\n",
    "    a1 = P / math.sqrt(2 * math.pi * sigma1 ** 2)\n",
    "    a2 = (1 - P) / math.sqrt(2 * math.pi * sigma2 ** 2)\n",
    "    e1 = np.exp(-np.square(x - mu1)  / (2 * sigma1 ** 2) )\n",
    "    e2 = np.exp(-np.square(x - mu2) / (2 * sigma2 ** 2) )\n",
    "    return constant * (a1 * e1 + a2 * e2)"
   ]
  },
  {
   "cell_type": "code",
   "execution_count": 89,
   "metadata": {},
   "outputs": [],
   "source": [
    "def fit_to_bi_gaussian_param(pdb, data, program):\n",
    "    ydata, xdata = np.histogram(df[df['PDB'] == pdb][program +'_ddG'], bins = 50, density=True)\n",
    "    bounds = ([0, -np.inf, -np.inf, -np.inf, -np.inf], [1, np.inf, np.inf, np.inf, np.inf])\n",
    "    xdata = np.array([np.mean([xdata[i], xdata[i + 1]]) for i in range(len(xdata) - 1)]) # centers of bins\n",
    "    popt, pcov = curve_fit(bi_gaussian_param, xdata, ydata, p0=[0.5, 0.56, 1.96, 0.9, 1.93],\n",
    "                           bounds=bounds)\n",
    "    data.loc[pdb, 'P'] = popt[0]\n",
    "    data.loc[pdb, 'mu1'] = popt[1]\n",
    "    data.loc[pdb, 'mu2'] = popt[2]\n",
    "    data.loc[pdb, 'sigma1'] = popt[3]\n",
    "    data.loc[pdb, 'sigma2'] = popt[4]\n",
    "    # maestro_gauss.loc[pdb, program +'_sigma'] = math.sqrt(pcov[0])\n",
    "    y_opt = bi_gaussian_param(xdata, *popt)\n",
    "    R, p_val = pearsonr(ydata, y_opt)\n",
    "    data.loc[pdb, 'R'] = R\n",
    "    for col in data.columns:\n",
    "        data[col] = pd.to_numeric(data[col], errors='raise')\n",
    "    \n",
    "for pdb in list(set(df['PDB'])):\n",
    "    fit_to_bi_gaussian_param(pdb, m_gauss, 'M')\n",
    "    fit_to_bi_gaussian_param(pdb, im_gauss, 'IM')\n",
    "    fit_to_bi_gaussian_param(pdb, fx_gauss, 'FX')"
   ]
  },
  {
   "cell_type": "code",
   "execution_count": 90,
   "metadata": {},
   "outputs": [
    {
     "data": {
      "text/html": [
       "<div>\n",
       "<style scoped>\n",
       "    .dataframe tbody tr th:only-of-type {\n",
       "        vertical-align: middle;\n",
       "    }\n",
       "\n",
       "    .dataframe tbody tr th {\n",
       "        vertical-align: top;\n",
       "    }\n",
       "\n",
       "    .dataframe thead th {\n",
       "        text-align: right;\n",
       "    }\n",
       "</style>\n",
       "<table border=\"1\" class=\"dataframe\">\n",
       "  <thead>\n",
       "    <tr style=\"text-align: right;\">\n",
       "      <th></th>\n",
       "      <th>P</th>\n",
       "      <th>mu1</th>\n",
       "      <th>mu2</th>\n",
       "      <th>sigma1</th>\n",
       "      <th>sigma2</th>\n",
       "      <th>R</th>\n",
       "    </tr>\n",
       "  </thead>\n",
       "  <tbody>\n",
       "    <tr>\n",
       "      <th>2wc2</th>\n",
       "      <td>0.216459</td>\n",
       "      <td>-0.960946</td>\n",
       "      <td>-0.427907</td>\n",
       "      <td>0.978720</td>\n",
       "      <td>4.304134</td>\n",
       "      <td>0.913644</td>\n",
       "    </tr>\n",
       "    <tr>\n",
       "      <th>3l1e</th>\n",
       "      <td>0.466067</td>\n",
       "      <td>-0.009343</td>\n",
       "      <td>0.911780</td>\n",
       "      <td>0.345573</td>\n",
       "      <td>1.162502</td>\n",
       "      <td>0.988782</td>\n",
       "    </tr>\n",
       "    <tr>\n",
       "      <th>1sce</th>\n",
       "      <td>0.360669</td>\n",
       "      <td>0.049449</td>\n",
       "      <td>1.461041</td>\n",
       "      <td>0.521667</td>\n",
       "      <td>1.411678</td>\n",
       "      <td>0.957362</td>\n",
       "    </tr>\n",
       "    <tr>\n",
       "      <th>2a1t</th>\n",
       "      <td>0.728764</td>\n",
       "      <td>-0.157301</td>\n",
       "      <td>0.167753</td>\n",
       "      <td>0.251680</td>\n",
       "      <td>0.314125</td>\n",
       "      <td>0.991359</td>\n",
       "    </tr>\n",
       "    <tr>\n",
       "      <th>1wyi</th>\n",
       "      <td>0.659326</td>\n",
       "      <td>-0.225594</td>\n",
       "      <td>0.915073</td>\n",
       "      <td>0.450361</td>\n",
       "      <td>0.540580</td>\n",
       "      <td>0.986023</td>\n",
       "    </tr>\n",
       "  </tbody>\n",
       "</table>\n",
       "</div>"
      ],
      "text/plain": [
       "             P       mu1       mu2    sigma1    sigma2         R\n",
       "2wc2  0.216459 -0.960946 -0.427907  0.978720  4.304134  0.913644\n",
       "3l1e  0.466067 -0.009343  0.911780  0.345573  1.162502  0.988782\n",
       "1sce  0.360669  0.049449  1.461041  0.521667  1.411678  0.957362\n",
       "2a1t  0.728764 -0.157301  0.167753  0.251680  0.314125  0.991359\n",
       "1wyi  0.659326 -0.225594  0.915073  0.450361  0.540580  0.986023"
      ]
     },
     "execution_count": 90,
     "metadata": {},
     "output_type": "execute_result"
    }
   ],
   "source": [
    "m_gauss.head()"
   ]
  },
  {
   "cell_type": "code",
   "execution_count": 91,
   "metadata": {},
   "outputs": [
    {
     "data": {
      "text/html": [
       "<div>\n",
       "<style scoped>\n",
       "    .dataframe tbody tr th:only-of-type {\n",
       "        vertical-align: middle;\n",
       "    }\n",
       "\n",
       "    .dataframe tbody tr th {\n",
       "        vertical-align: top;\n",
       "    }\n",
       "\n",
       "    .dataframe thead th {\n",
       "        text-align: right;\n",
       "    }\n",
       "</style>\n",
       "<table border=\"1\" class=\"dataframe\">\n",
       "  <thead>\n",
       "    <tr style=\"text-align: right;\">\n",
       "      <th></th>\n",
       "      <th>P</th>\n",
       "      <th>mu1</th>\n",
       "      <th>mu2</th>\n",
       "      <th>sigma1</th>\n",
       "      <th>sigma2</th>\n",
       "      <th>R</th>\n",
       "    </tr>\n",
       "  </thead>\n",
       "  <tbody>\n",
       "    <tr>\n",
       "      <th>2wc2</th>\n",
       "      <td>0.864455</td>\n",
       "      <td>0.766763</td>\n",
       "      <td>2.525690</td>\n",
       "      <td>0.684493</td>\n",
       "      <td>0.409966</td>\n",
       "      <td>0.961030</td>\n",
       "    </tr>\n",
       "    <tr>\n",
       "      <th>3l1e</th>\n",
       "      <td>0.362201</td>\n",
       "      <td>0.455338</td>\n",
       "      <td>1.291222</td>\n",
       "      <td>0.334202</td>\n",
       "      <td>0.837540</td>\n",
       "      <td>0.970303</td>\n",
       "    </tr>\n",
       "    <tr>\n",
       "      <th>1sce</th>\n",
       "      <td>0.538953</td>\n",
       "      <td>0.386716</td>\n",
       "      <td>1.197570</td>\n",
       "      <td>0.441999</td>\n",
       "      <td>0.746378</td>\n",
       "      <td>0.986315</td>\n",
       "    </tr>\n",
       "    <tr>\n",
       "      <th>2a1t</th>\n",
       "      <td>0.878116</td>\n",
       "      <td>0.818718</td>\n",
       "      <td>1.414847</td>\n",
       "      <td>0.654725</td>\n",
       "      <td>0.951059</td>\n",
       "      <td>0.985611</td>\n",
       "    </tr>\n",
       "    <tr>\n",
       "      <th>1wyi</th>\n",
       "      <td>0.215437</td>\n",
       "      <td>0.265881</td>\n",
       "      <td>1.113778</td>\n",
       "      <td>0.388127</td>\n",
       "      <td>0.807944</td>\n",
       "      <td>0.980424</td>\n",
       "    </tr>\n",
       "  </tbody>\n",
       "</table>\n",
       "</div>"
      ],
      "text/plain": [
       "             P       mu1       mu2    sigma1    sigma2         R\n",
       "2wc2  0.864455  0.766763  2.525690  0.684493  0.409966  0.961030\n",
       "3l1e  0.362201  0.455338  1.291222  0.334202  0.837540  0.970303\n",
       "1sce  0.538953  0.386716  1.197570  0.441999  0.746378  0.986315\n",
       "2a1t  0.878116  0.818718  1.414847  0.654725  0.951059  0.985611\n",
       "1wyi  0.215437  0.265881  1.113778  0.388127  0.807944  0.980424"
      ]
     },
     "execution_count": 91,
     "metadata": {},
     "output_type": "execute_result"
    }
   ],
   "source": [
    "im_gauss.head()"
   ]
  },
  {
   "cell_type": "code",
   "execution_count": 92,
   "metadata": {},
   "outputs": [
    {
     "data": {
      "text/html": [
       "<div>\n",
       "<style scoped>\n",
       "    .dataframe tbody tr th:only-of-type {\n",
       "        vertical-align: middle;\n",
       "    }\n",
       "\n",
       "    .dataframe tbody tr th {\n",
       "        vertical-align: top;\n",
       "    }\n",
       "\n",
       "    .dataframe thead th {\n",
       "        text-align: right;\n",
       "    }\n",
       "</style>\n",
       "<table border=\"1\" class=\"dataframe\">\n",
       "  <thead>\n",
       "    <tr style=\"text-align: right;\">\n",
       "      <th></th>\n",
       "      <th>P</th>\n",
       "      <th>mu1</th>\n",
       "      <th>mu2</th>\n",
       "      <th>sigma1</th>\n",
       "      <th>sigma2</th>\n",
       "      <th>R</th>\n",
       "    </tr>\n",
       "  </thead>\n",
       "  <tbody>\n",
       "    <tr>\n",
       "      <th>2wc2</th>\n",
       "      <td>0.492494</td>\n",
       "      <td>0.122946</td>\n",
       "      <td>1.668619</td>\n",
       "      <td>0.737848</td>\n",
       "      <td>2.296880</td>\n",
       "      <td>0.988571</td>\n",
       "    </tr>\n",
       "    <tr>\n",
       "      <th>3l1e</th>\n",
       "      <td>0.596688</td>\n",
       "      <td>0.174483</td>\n",
       "      <td>2.456154</td>\n",
       "      <td>0.590912</td>\n",
       "      <td>2.103496</td>\n",
       "      <td>0.992359</td>\n",
       "    </tr>\n",
       "    <tr>\n",
       "      <th>1sce</th>\n",
       "      <td>0.449256</td>\n",
       "      <td>0.138212</td>\n",
       "      <td>1.760222</td>\n",
       "      <td>0.569433</td>\n",
       "      <td>1.841763</td>\n",
       "      <td>0.991877</td>\n",
       "    </tr>\n",
       "    <tr>\n",
       "      <th>2a1t</th>\n",
       "      <td>0.240096</td>\n",
       "      <td>0.360360</td>\n",
       "      <td>1.937369</td>\n",
       "      <td>0.717268</td>\n",
       "      <td>2.289185</td>\n",
       "      <td>0.990035</td>\n",
       "    </tr>\n",
       "    <tr>\n",
       "      <th>1wyi</th>\n",
       "      <td>0.422680</td>\n",
       "      <td>0.200382</td>\n",
       "      <td>2.417726</td>\n",
       "      <td>0.866218</td>\n",
       "      <td>2.519353</td>\n",
       "      <td>0.991048</td>\n",
       "    </tr>\n",
       "  </tbody>\n",
       "</table>\n",
       "</div>"
      ],
      "text/plain": [
       "             P       mu1       mu2    sigma1    sigma2         R\n",
       "2wc2  0.492494  0.122946  1.668619  0.737848  2.296880  0.988571\n",
       "3l1e  0.596688  0.174483  2.456154  0.590912  2.103496  0.992359\n",
       "1sce  0.449256  0.138212  1.760222  0.569433  1.841763  0.991877\n",
       "2a1t  0.240096  0.360360  1.937369  0.717268  2.289185  0.990035\n",
       "1wyi  0.422680  0.200382  2.417726  0.866218  2.519353  0.991048"
      ]
     },
     "execution_count": 92,
     "metadata": {},
     "output_type": "execute_result"
    }
   ],
   "source": [
    "fx_gauss.head()"
   ]
  },
  {
   "cell_type": "code",
   "execution_count": 102,
   "metadata": {},
   "outputs": [
    {
     "data": {
      "text/html": [
       "<div>\n",
       "<style scoped>\n",
       "    .dataframe tbody tr th:only-of-type {\n",
       "        vertical-align: middle;\n",
       "    }\n",
       "\n",
       "    .dataframe tbody tr th {\n",
       "        vertical-align: top;\n",
       "    }\n",
       "\n",
       "    .dataframe thead th {\n",
       "        text-align: right;\n",
       "    }\n",
       "</style>\n",
       "<table border=\"1\" class=\"dataframe\">\n",
       "  <thead>\n",
       "    <tr style=\"text-align: right;\">\n",
       "      <th></th>\n",
       "      <th>P</th>\n",
       "      <th>mu1</th>\n",
       "      <th>mu2</th>\n",
       "      <th>sigma1</th>\n",
       "      <th>sigma2</th>\n",
       "      <th>R</th>\n",
       "    </tr>\n",
       "  </thead>\n",
       "  <tbody>\n",
       "    <tr>\n",
       "      <th>count</th>\n",
       "      <td>97.000000</td>\n",
       "      <td>97.000000</td>\n",
       "      <td>97.000000</td>\n",
       "      <td>97.000000</td>\n",
       "      <td>97.000000</td>\n",
       "      <td>97.000000</td>\n",
       "    </tr>\n",
       "    <tr>\n",
       "      <th>mean</th>\n",
       "      <td>0.348879</td>\n",
       "      <td>0.217222</td>\n",
       "      <td>2.134555</td>\n",
       "      <td>0.693165</td>\n",
       "      <td>2.304325</td>\n",
       "      <td>0.991635</td>\n",
       "    </tr>\n",
       "    <tr>\n",
       "      <th>std</th>\n",
       "      <td>0.077819</td>\n",
       "      <td>0.128418</td>\n",
       "      <td>0.544577</td>\n",
       "      <td>0.120257</td>\n",
       "      <td>0.237600</td>\n",
       "      <td>0.004191</td>\n",
       "    </tr>\n",
       "    <tr>\n",
       "      <th>min</th>\n",
       "      <td>0.196974</td>\n",
       "      <td>-0.084640</td>\n",
       "      <td>0.200863</td>\n",
       "      <td>0.436844</td>\n",
       "      <td>1.379033</td>\n",
       "      <td>0.974927</td>\n",
       "    </tr>\n",
       "    <tr>\n",
       "      <th>25%</th>\n",
       "      <td>0.300002</td>\n",
       "      <td>0.128513</td>\n",
       "      <td>1.953708</td>\n",
       "      <td>0.606970</td>\n",
       "      <td>2.202781</td>\n",
       "      <td>0.989887</td>\n",
       "    </tr>\n",
       "    <tr>\n",
       "      <th>50%</th>\n",
       "      <td>0.342660</td>\n",
       "      <td>0.202406</td>\n",
       "      <td>2.241686</td>\n",
       "      <td>0.683543</td>\n",
       "      <td>2.323836</td>\n",
       "      <td>0.992359</td>\n",
       "    </tr>\n",
       "    <tr>\n",
       "      <th>75%</th>\n",
       "      <td>0.392480</td>\n",
       "      <td>0.310953</td>\n",
       "      <td>2.456154</td>\n",
       "      <td>0.758562</td>\n",
       "      <td>2.437915</td>\n",
       "      <td>0.994461</td>\n",
       "    </tr>\n",
       "    <tr>\n",
       "      <th>max</th>\n",
       "      <td>0.596688</td>\n",
       "      <td>0.638271</td>\n",
       "      <td>3.265000</td>\n",
       "      <td>1.048222</td>\n",
       "      <td>3.035747</td>\n",
       "      <td>0.998884</td>\n",
       "    </tr>\n",
       "  </tbody>\n",
       "</table>\n",
       "</div>"
      ],
      "text/plain": [
       "               P        mu1        mu2     sigma1     sigma2          R\n",
       "count  97.000000  97.000000  97.000000  97.000000  97.000000  97.000000\n",
       "mean    0.348879   0.217222   2.134555   0.693165   2.304325   0.991635\n",
       "std     0.077819   0.128418   0.544577   0.120257   0.237600   0.004191\n",
       "min     0.196974  -0.084640   0.200863   0.436844   1.379033   0.974927\n",
       "25%     0.300002   0.128513   1.953708   0.606970   2.202781   0.989887\n",
       "50%     0.342660   0.202406   2.241686   0.683543   2.323836   0.992359\n",
       "75%     0.392480   0.310953   2.456154   0.758562   2.437915   0.994461\n",
       "max     0.596688   0.638271   3.265000   1.048222   3.035747   0.998884"
      ]
     },
     "execution_count": 102,
     "metadata": {},
     "output_type": "execute_result"
    }
   ],
   "source": [
    "fx_gauss.describe()"
   ]
  },
  {
   "cell_type": "markdown",
   "metadata": {},
   "source": [
    "Полученные значения не совпадают с теми, которые были в статье: $\\mu_1=0.21$, $\\mu_2=2.13$."
   ]
  },
  {
   "cell_type": "code",
   "execution_count": 103,
   "metadata": {},
   "outputs": [
    {
     "data": {
      "text/html": [
       "<div>\n",
       "<style scoped>\n",
       "    .dataframe tbody tr th:only-of-type {\n",
       "        vertical-align: middle;\n",
       "    }\n",
       "\n",
       "    .dataframe tbody tr th {\n",
       "        vertical-align: top;\n",
       "    }\n",
       "\n",
       "    .dataframe thead th {\n",
       "        text-align: right;\n",
       "    }\n",
       "</style>\n",
       "<table border=\"1\" class=\"dataframe\">\n",
       "  <thead>\n",
       "    <tr style=\"text-align: right;\">\n",
       "      <th></th>\n",
       "      <th>P</th>\n",
       "      <th>mu1</th>\n",
       "      <th>mu2</th>\n",
       "      <th>sigma1</th>\n",
       "      <th>sigma2</th>\n",
       "      <th>R</th>\n",
       "    </tr>\n",
       "  </thead>\n",
       "  <tbody>\n",
       "    <tr>\n",
       "      <th>count</th>\n",
       "      <td>97.000000</td>\n",
       "      <td>97.000000</td>\n",
       "      <td>97.000000</td>\n",
       "      <td>97.000000</td>\n",
       "      <td>97.000000</td>\n",
       "      <td>97.000000</td>\n",
       "    </tr>\n",
       "    <tr>\n",
       "      <th>mean</th>\n",
       "      <td>0.604010</td>\n",
       "      <td>-0.103788</td>\n",
       "      <td>0.834986</td>\n",
       "      <td>0.414160</td>\n",
       "      <td>0.750860</td>\n",
       "      <td>0.972439</td>\n",
       "    </tr>\n",
       "    <tr>\n",
       "      <th>std</th>\n",
       "      <td>0.272656</td>\n",
       "      <td>0.286283</td>\n",
       "      <td>0.928664</td>\n",
       "      <td>0.594178</td>\n",
       "      <td>0.834845</td>\n",
       "      <td>0.048500</td>\n",
       "    </tr>\n",
       "    <tr>\n",
       "      <th>min</th>\n",
       "      <td>0.050858</td>\n",
       "      <td>-1.066223</td>\n",
       "      <td>-0.501811</td>\n",
       "      <td>-0.743624</td>\n",
       "      <td>-0.389728</td>\n",
       "      <td>0.623132</td>\n",
       "    </tr>\n",
       "    <tr>\n",
       "      <th>25%</th>\n",
       "      <td>0.431275</td>\n",
       "      <td>-0.192537</td>\n",
       "      <td>0.334249</td>\n",
       "      <td>0.223216</td>\n",
       "      <td>0.240069</td>\n",
       "      <td>0.977318</td>\n",
       "    </tr>\n",
       "    <tr>\n",
       "      <th>50%</th>\n",
       "      <td>0.586707</td>\n",
       "      <td>-0.035527</td>\n",
       "      <td>0.749333</td>\n",
       "      <td>0.327114</td>\n",
       "      <td>0.540580</td>\n",
       "      <td>0.984227</td>\n",
       "    </tr>\n",
       "    <tr>\n",
       "      <th>75%</th>\n",
       "      <td>0.870893</td>\n",
       "      <td>0.066367</td>\n",
       "      <td>1.063309</td>\n",
       "      <td>0.480952</td>\n",
       "      <td>1.027748</td>\n",
       "      <td>0.987905</td>\n",
       "    </tr>\n",
       "    <tr>\n",
       "      <th>max</th>\n",
       "      <td>0.995905</td>\n",
       "      <td>0.387421</td>\n",
       "      <td>6.667770</td>\n",
       "      <td>3.519919</td>\n",
       "      <td>4.304134</td>\n",
       "      <td>0.993026</td>\n",
       "    </tr>\n",
       "  </tbody>\n",
       "</table>\n",
       "</div>"
      ],
      "text/plain": [
       "               P        mu1        mu2     sigma1     sigma2          R\n",
       "count  97.000000  97.000000  97.000000  97.000000  97.000000  97.000000\n",
       "mean    0.604010  -0.103788   0.834986   0.414160   0.750860   0.972439\n",
       "std     0.272656   0.286283   0.928664   0.594178   0.834845   0.048500\n",
       "min     0.050858  -1.066223  -0.501811  -0.743624  -0.389728   0.623132\n",
       "25%     0.431275  -0.192537   0.334249   0.223216   0.240069   0.977318\n",
       "50%     0.586707  -0.035527   0.749333   0.327114   0.540580   0.984227\n",
       "75%     0.870893   0.066367   1.063309   0.480952   1.027748   0.987905\n",
       "max     0.995905   0.387421   6.667770   3.519919   4.304134   0.993026"
      ]
     },
     "execution_count": 103,
     "metadata": {},
     "output_type": "execute_result"
    }
   ],
   "source": [
    "m_gauss.describe()"
   ]
  },
  {
   "cell_type": "code",
   "execution_count": 104,
   "metadata": {},
   "outputs": [
    {
     "data": {
      "text/html": [
       "<div>\n",
       "<style scoped>\n",
       "    .dataframe tbody tr th:only-of-type {\n",
       "        vertical-align: middle;\n",
       "    }\n",
       "\n",
       "    .dataframe tbody tr th {\n",
       "        vertical-align: top;\n",
       "    }\n",
       "\n",
       "    .dataframe thead th {\n",
       "        text-align: right;\n",
       "    }\n",
       "</style>\n",
       "<table border=\"1\" class=\"dataframe\">\n",
       "  <thead>\n",
       "    <tr style=\"text-align: right;\">\n",
       "      <th></th>\n",
       "      <th>P</th>\n",
       "      <th>mu1</th>\n",
       "      <th>mu2</th>\n",
       "      <th>sigma1</th>\n",
       "      <th>sigma2</th>\n",
       "      <th>R</th>\n",
       "    </tr>\n",
       "  </thead>\n",
       "  <tbody>\n",
       "    <tr>\n",
       "      <th>count</th>\n",
       "      <td>97.000000</td>\n",
       "      <td>97.000000</td>\n",
       "      <td>97.000000</td>\n",
       "      <td>97.000000</td>\n",
       "      <td>97.000000</td>\n",
       "      <td>97.000000</td>\n",
       "    </tr>\n",
       "    <tr>\n",
       "      <th>mean</th>\n",
       "      <td>0.497455</td>\n",
       "      <td>0.575586</td>\n",
       "      <td>1.420748</td>\n",
       "      <td>0.509052</td>\n",
       "      <td>0.691209</td>\n",
       "      <td>0.981007</td>\n",
       "    </tr>\n",
       "    <tr>\n",
       "      <th>std</th>\n",
       "      <td>0.279180</td>\n",
       "      <td>0.325927</td>\n",
       "      <td>0.546069</td>\n",
       "      <td>0.183047</td>\n",
       "      <td>0.183917</td>\n",
       "      <td>0.008939</td>\n",
       "    </tr>\n",
       "    <tr>\n",
       "      <th>min</th>\n",
       "      <td>0.051950</td>\n",
       "      <td>-0.000971</td>\n",
       "      <td>-0.126118</td>\n",
       "      <td>-0.321127</td>\n",
       "      <td>0.190496</td>\n",
       "      <td>0.939833</td>\n",
       "    </tr>\n",
       "    <tr>\n",
       "      <th>25%</th>\n",
       "      <td>0.272022</td>\n",
       "      <td>0.335893</td>\n",
       "      <td>1.061373</td>\n",
       "      <td>0.390455</td>\n",
       "      <td>0.567927</td>\n",
       "      <td>0.977762</td>\n",
       "    </tr>\n",
       "    <tr>\n",
       "      <th>50%</th>\n",
       "      <td>0.500919</td>\n",
       "      <td>0.565320</td>\n",
       "      <td>1.358052</td>\n",
       "      <td>0.554589</td>\n",
       "      <td>0.746006</td>\n",
       "      <td>0.982874</td>\n",
       "    </tr>\n",
       "    <tr>\n",
       "      <th>75%</th>\n",
       "      <td>0.764001</td>\n",
       "      <td>0.753998</td>\n",
       "      <td>1.833259</td>\n",
       "      <td>0.633560</td>\n",
       "      <td>0.822278</td>\n",
       "      <td>0.987127</td>\n",
       "    </tr>\n",
       "    <tr>\n",
       "      <th>max</th>\n",
       "      <td>0.981543</td>\n",
       "      <td>1.968346</td>\n",
       "      <td>2.547648</td>\n",
       "      <td>0.899043</td>\n",
       "      <td>1.043632</td>\n",
       "      <td>0.993491</td>\n",
       "    </tr>\n",
       "  </tbody>\n",
       "</table>\n",
       "</div>"
      ],
      "text/plain": [
       "               P        mu1        mu2     sigma1     sigma2          R\n",
       "count  97.000000  97.000000  97.000000  97.000000  97.000000  97.000000\n",
       "mean    0.497455   0.575586   1.420748   0.509052   0.691209   0.981007\n",
       "std     0.279180   0.325927   0.546069   0.183047   0.183917   0.008939\n",
       "min     0.051950  -0.000971  -0.126118  -0.321127   0.190496   0.939833\n",
       "25%     0.272022   0.335893   1.061373   0.390455   0.567927   0.977762\n",
       "50%     0.500919   0.565320   1.358052   0.554589   0.746006   0.982874\n",
       "75%     0.764001   0.753998   1.833259   0.633560   0.822278   0.987127\n",
       "max     0.981543   1.968346   2.547648   0.899043   1.043632   0.993491"
      ]
     },
     "execution_count": 104,
     "metadata": {},
     "output_type": "execute_result"
    }
   ],
   "source": [
    "im_gauss.describe()"
   ]
  },
  {
   "cell_type": "code",
   "execution_count": 101,
   "metadata": {},
   "outputs": [
    {
     "data": {
      "image/png": "[encoded data removed]",
      "text/plain": [
       "<Figure size 432x288 with 1 Axes>"
      ]
     },
     "metadata": {},
     "output_type": "display_data"
    }
   ],
   "source": [
    "plt.boxplot([fx_gauss.mu1, fx_gauss.mu2, m_gauss.mu1, m_gauss.mu2, im_gauss.mu1, im_gauss.mu2],\n",
    "           labels=[\"FoldX $\\mu_1$\", \"FoldX $\\mu_2$\", \"Maestro $\\mu_1$\", \"Maestro $\\mu_2$\", \"I-Mutant $\\mu_1$\", \"I-Mutant $\\mu_2$\"]);"
   ]
  },
  {
   "cell_type": "markdown",
   "metadata": {},
   "source": [
    "#### ddG из статьи с deep mutational scanning (immunoglobulin binding protein)"
   ]
  },
  {
   "cell_type": "code",
   "execution_count": 118,
   "metadata": {},
   "outputs": [],
   "source": [
    "gb1 = pd.read_csv('GB1_699_dataset_values.csv')\n",
    "gb1['ddG'] = gb1['ddGexp']\n",
    "gb1.drop(columns='ddGexp', inplace=True)"
   ]
  },
  {
   "cell_type": "code",
   "execution_count": 119,
   "metadata": {},
   "outputs": [
    {
     "data": {
      "text/html": [
       "<div>\n",
       "<style scoped>\n",
       "    .dataframe tbody tr th:only-of-type {\n",
       "        vertical-align: middle;\n",
       "    }\n",
       "\n",
       "    .dataframe tbody tr th {\n",
       "        vertical-align: top;\n",
       "    }\n",
       "\n",
       "    .dataframe thead th {\n",
       "        text-align: right;\n",
       "    }\n",
       "</style>\n",
       "<table border=\"1\" class=\"dataframe\">\n",
       "  <thead>\n",
       "    <tr style=\"text-align: right;\">\n",
       "      <th></th>\n",
       "      <th>PDB</th>\n",
       "      <th>MUTATION</th>\n",
       "      <th>MUTATED_CHAIN</th>\n",
       "      <th>pos</th>\n",
       "      <th>aa1</th>\n",
       "      <th>aa2</th>\n",
       "      <th>M_ddG</th>\n",
       "      <th>IM_ddG</th>\n",
       "      <th>FX_ddG</th>\n",
       "      <th>ddG</th>\n",
       "    </tr>\n",
       "  </thead>\n",
       "  <tbody>\n",
       "    <tr>\n",
       "      <th>0</th>\n",
       "      <td>1pga</td>\n",
       "      <td>T 2 A</td>\n",
       "      <td>A</td>\n",
       "      <td>2</td>\n",
       "      <td>T</td>\n",
       "      <td>A</td>\n",
       "      <td>0.655059</td>\n",
       "      <td>0.53</td>\n",
       "      <td>0.498797</td>\n",
       "      <td>2.755</td>\n",
       "    </tr>\n",
       "    <tr>\n",
       "      <th>1</th>\n",
       "      <td>1pga</td>\n",
       "      <td>T 2 C</td>\n",
       "      <td>A</td>\n",
       "      <td>2</td>\n",
       "      <td>T</td>\n",
       "      <td>C</td>\n",
       "      <td>0.132381</td>\n",
       "      <td>0.54</td>\n",
       "      <td>0.274565</td>\n",
       "      <td>2.793</td>\n",
       "    </tr>\n",
       "    <tr>\n",
       "      <th>2</th>\n",
       "      <td>1pga</td>\n",
       "      <td>T 2 D</td>\n",
       "      <td>A</td>\n",
       "      <td>2</td>\n",
       "      <td>T</td>\n",
       "      <td>D</td>\n",
       "      <td>0.315382</td>\n",
       "      <td>0.68</td>\n",
       "      <td>0.301895</td>\n",
       "      <td>3.436</td>\n",
       "    </tr>\n",
       "    <tr>\n",
       "      <th>3</th>\n",
       "      <td>1pga</td>\n",
       "      <td>T 2 E</td>\n",
       "      <td>A</td>\n",
       "      <td>2</td>\n",
       "      <td>T</td>\n",
       "      <td>E</td>\n",
       "      <td>-0.097342</td>\n",
       "      <td>0.60</td>\n",
       "      <td>0.223198</td>\n",
       "      <td>1.923</td>\n",
       "    </tr>\n",
       "    <tr>\n",
       "      <th>4</th>\n",
       "      <td>1pga</td>\n",
       "      <td>T 2 F</td>\n",
       "      <td>A</td>\n",
       "      <td>2</td>\n",
       "      <td>T</td>\n",
       "      <td>F</td>\n",
       "      <td>-0.269423</td>\n",
       "      <td>0.14</td>\n",
       "      <td>-0.299334</td>\n",
       "      <td>-0.171</td>\n",
       "    </tr>\n",
       "  </tbody>\n",
       "</table>\n",
       "</div>"
      ],
      "text/plain": [
       "    PDB MUTATION MUTATED_CHAIN  pos aa1 aa2     M_ddG  IM_ddG    FX_ddG    ddG\n",
       "0  1pga    T 2 A             A    2   T   A  0.655059    0.53  0.498797  2.755\n",
       "1  1pga    T 2 C             A    2   T   C  0.132381    0.54  0.274565  2.793\n",
       "2  1pga    T 2 D             A    2   T   D  0.315382    0.68  0.301895  3.436\n",
       "3  1pga    T 2 E             A    2   T   E -0.097342    0.60  0.223198  1.923\n",
       "4  1pga    T 2 F             A    2   T   F -0.269423    0.14 -0.299334 -0.171"
      ]
     },
     "execution_count": 119,
     "metadata": {},
     "output_type": "execute_result"
    }
   ],
   "source": [
    "gb1.head()"
   ]
  },
  {
   "cell_type": "code",
   "execution_count": 136,
   "metadata": {},
   "outputs": [
    {
     "data": {
      "text/html": [
       "<style  type=\"text/css\" >\n",
       "</style>  \n",
       "<table id=\"T_4e6e82c2_4885_11e8_8b10_f816541ac287\" > \n",
       "<thead>    <tr> \n",
       "        <th class=\"blank level0\" ></th> \n",
       "        <th class=\"col_heading level0 col0\" >M_ddG</th> \n",
       "        <th class=\"col_heading level0 col1\" >IM_ddG</th> \n",
       "        <th class=\"col_heading level0 col2\" >FX_ddG</th> \n",
       "        <th class=\"col_heading level0 col3\" >ddG</th> \n",
       "    </tr></thead> \n",
       "<tbody>    <tr> \n",
       "        <th id=\"T_4e6e82c2_4885_11e8_8b10_f816541ac287level0_row0\" class=\"row_heading level0 row0\" >count</th> \n",
       "        <td id=\"T_4e6e82c2_4885_11e8_8b10_f816541ac287row0_col0\" class=\"data row0 col0\" >699</td> \n",
       "        <td id=\"T_4e6e82c2_4885_11e8_8b10_f816541ac287row0_col1\" class=\"data row0 col1\" >699</td> \n",
       "        <td id=\"T_4e6e82c2_4885_11e8_8b10_f816541ac287row0_col2\" class=\"data row0 col2\" >699</td> \n",
       "        <td id=\"T_4e6e82c2_4885_11e8_8b10_f816541ac287row0_col3\" class=\"data row0 col3\" >699</td> \n",
       "    </tr>    <tr> \n",
       "        <th id=\"T_4e6e82c2_4885_11e8_8b10_f816541ac287level0_row1\" class=\"row_heading level0 row1\" >mean</th> \n",
       "        <td id=\"T_4e6e82c2_4885_11e8_8b10_f816541ac287row1_col0\" class=\"data row1 col0\" >0.178684</td> \n",
       "        <td id=\"T_4e6e82c2_4885_11e8_8b10_f816541ac287row1_col1\" class=\"data row1 col1\" >0.259628</td> \n",
       "        <td id=\"T_4e6e82c2_4885_11e8_8b10_f816541ac287row1_col2\" class=\"data row1 col2\" >0.797296</td> \n",
       "        <td id=\"T_4e6e82c2_4885_11e8_8b10_f816541ac287row1_col3\" class=\"data row1 col3\" >1.93735</td> \n",
       "    </tr>    <tr> \n",
       "        <th id=\"T_4e6e82c2_4885_11e8_8b10_f816541ac287level0_row2\" class=\"row_heading level0 row2\" >std</th> \n",
       "        <td id=\"T_4e6e82c2_4885_11e8_8b10_f816541ac287row2_col0\" class=\"data row2 col0\" >0.947213</td> \n",
       "        <td id=\"T_4e6e82c2_4885_11e8_8b10_f816541ac287row2_col1\" class=\"data row2 col1\" >0.565257</td> \n",
       "        <td id=\"T_4e6e82c2_4885_11e8_8b10_f816541ac287row2_col2\" class=\"data row2 col2\" >1.88533</td> \n",
       "        <td id=\"T_4e6e82c2_4885_11e8_8b10_f816541ac287row2_col3\" class=\"data row2 col3\" >1.47131</td> \n",
       "    </tr>    <tr> \n",
       "        <th id=\"T_4e6e82c2_4885_11e8_8b10_f816541ac287level0_row3\" class=\"row_heading level0 row3\" >min</th> \n",
       "        <td id=\"T_4e6e82c2_4885_11e8_8b10_f816541ac287row3_col0\" class=\"data row3 col0\" >-1.53348</td> \n",
       "        <td id=\"T_4e6e82c2_4885_11e8_8b10_f816541ac287row3_col1\" class=\"data row3 col1\" >-1.4</td> \n",
       "        <td id=\"T_4e6e82c2_4885_11e8_8b10_f816541ac287row3_col2\" class=\"data row3 col2\" >-1.97922</td> \n",
       "        <td id=\"T_4e6e82c2_4885_11e8_8b10_f816541ac287row3_col3\" class=\"data row3 col3\" >-1.864</td> \n",
       "    </tr>    <tr> \n",
       "        <th id=\"T_4e6e82c2_4885_11e8_8b10_f816541ac287level0_row4\" class=\"row_heading level0 row4\" >25%</th> \n",
       "        <td id=\"T_4e6e82c2_4885_11e8_8b10_f816541ac287row4_col0\" class=\"data row4 col0\" >-0.502135</td> \n",
       "        <td id=\"T_4e6e82c2_4885_11e8_8b10_f816541ac287row4_col1\" class=\"data row4 col1\" >-0.12</td> \n",
       "        <td id=\"T_4e6e82c2_4885_11e8_8b10_f816541ac287row4_col2\" class=\"data row4 col2\" >-0.199998</td> \n",
       "        <td id=\"T_4e6e82c2_4885_11e8_8b10_f816541ac287row4_col3\" class=\"data row4 col3\" >0.9445</td> \n",
       "    </tr>    <tr> \n",
       "        <th id=\"T_4e6e82c2_4885_11e8_8b10_f816541ac287level0_row5\" class=\"row_heading level0 row5\" >50%</th> \n",
       "        <td id=\"T_4e6e82c2_4885_11e8_8b10_f816541ac287row5_col0\" class=\"data row5 col0\" >-0.01321</td> \n",
       "        <td id=\"T_4e6e82c2_4885_11e8_8b10_f816541ac287row5_col1\" class=\"data row5 col1\" >0.25</td> \n",
       "        <td id=\"T_4e6e82c2_4885_11e8_8b10_f816541ac287row5_col2\" class=\"data row5 col2\" >0.332923</td> \n",
       "        <td id=\"T_4e6e82c2_4885_11e8_8b10_f816541ac287row5_col3\" class=\"data row5 col3\" >1.707</td> \n",
       "    </tr>    <tr> \n",
       "        <th id=\"T_4e6e82c2_4885_11e8_8b10_f816541ac287level0_row6\" class=\"row_heading level0 row6\" >75%</th> \n",
       "        <td id=\"T_4e6e82c2_4885_11e8_8b10_f816541ac287row6_col0\" class=\"data row6 col0\" >0.64877</td> \n",
       "        <td id=\"T_4e6e82c2_4885_11e8_8b10_f816541ac287row6_col1\" class=\"data row6 col1\" >0.63</td> \n",
       "        <td id=\"T_4e6e82c2_4885_11e8_8b10_f816541ac287row6_col2\" class=\"data row6 col2\" >1.16227</td> \n",
       "        <td id=\"T_4e6e82c2_4885_11e8_8b10_f816541ac287row6_col3\" class=\"data row6 col3\" >2.8815</td> \n",
       "    </tr>    <tr> \n",
       "        <th id=\"T_4e6e82c2_4885_11e8_8b10_f816541ac287level0_row7\" class=\"row_heading level0 row7\" >max</th> \n",
       "        <td id=\"T_4e6e82c2_4885_11e8_8b10_f816541ac287row7_col0\" class=\"data row7 col0\" >4.09521</td> \n",
       "        <td id=\"T_4e6e82c2_4885_11e8_8b10_f816541ac287row7_col1\" class=\"data row7 col1\" >2.35</td> \n",
       "        <td id=\"T_4e6e82c2_4885_11e8_8b10_f816541ac287row7_col2\" class=\"data row7 col2\" >19.0695</td> \n",
       "        <td id=\"T_4e6e82c2_4885_11e8_8b10_f816541ac287row7_col3\" class=\"data row7 col3\" >6.402</td> \n",
       "    </tr></tbody> \n",
       "</table> "
      ],
      "text/plain": [
       "<pandas.io.formats.style.Styler at 0x7faabd78e400>"
      ]
     },
     "execution_count": 136,
     "metadata": {},
     "output_type": "execute_result"
    }
   ],
   "source": [
    "gb1[['M_ddG', 'IM_ddG', 'FX_ddG', 'ddG']].describe()"
   ]
  },
  {
   "cell_type": "code",
   "execution_count": 134,
   "metadata": {},
   "outputs": [
    {
     "data": {
      "text/html": [
       "<div>\n",
       "<style scoped>\n",
       "    .dataframe tbody tr th:only-of-type {\n",
       "        vertical-align: middle;\n",
       "    }\n",
       "\n",
       "    .dataframe tbody tr th {\n",
       "        vertical-align: top;\n",
       "    }\n",
       "\n",
       "    .dataframe thead th {\n",
       "        text-align: right;\n",
       "    }\n",
       "</style>\n",
       "<table border=\"1\" class=\"dataframe\">\n",
       "  <thead>\n",
       "    <tr style=\"text-align: right;\">\n",
       "      <th></th>\n",
       "      <th>M_ddG</th>\n",
       "      <th>IM_ddG</th>\n",
       "      <th>FX_ddG</th>\n",
       "      <th>ddG</th>\n",
       "    </tr>\n",
       "  </thead>\n",
       "  <tbody>\n",
       "    <tr>\n",
       "      <th>M_ddG</th>\n",
       "      <td>1.000000</td>\n",
       "      <td>0.432604</td>\n",
       "      <td>0.377294</td>\n",
       "      <td>0.602912</td>\n",
       "    </tr>\n",
       "    <tr>\n",
       "      <th>IM_ddG</th>\n",
       "      <td>0.432604</td>\n",
       "      <td>1.000000</td>\n",
       "      <td>0.197329</td>\n",
       "      <td>0.367197</td>\n",
       "    </tr>\n",
       "    <tr>\n",
       "      <th>FX_ddG</th>\n",
       "      <td>0.377294</td>\n",
       "      <td>0.197329</td>\n",
       "      <td>1.000000</td>\n",
       "      <td>0.428448</td>\n",
       "    </tr>\n",
       "    <tr>\n",
       "      <th>ddG</th>\n",
       "      <td>0.602912</td>\n",
       "      <td>0.367197</td>\n",
       "      <td>0.428448</td>\n",
       "      <td>1.000000</td>\n",
       "    </tr>\n",
       "  </tbody>\n",
       "</table>\n",
       "</div>"
      ],
      "text/plain": [
       "           M_ddG    IM_ddG    FX_ddG       ddG\n",
       "M_ddG   1.000000  0.432604  0.377294  0.602912\n",
       "IM_ddG  0.432604  1.000000  0.197329  0.367197\n",
       "FX_ddG  0.377294  0.197329  1.000000  0.428448\n",
       "ddG     0.602912  0.367197  0.428448  1.000000"
      ]
     },
     "execution_count": 134,
     "metadata": {},
     "output_type": "execute_result"
    }
   ],
   "source": [
    "gb1[['M_ddG', 'IM_ddG', 'FX_ddG', 'ddG']].corr()"
   ]
  },
  {
   "cell_type": "code",
   "execution_count": 132,
   "metadata": {},
   "outputs": [
    {
     "data": {
      "text/plain": [
       "<matplotlib.legend.Legend at 0x7faabd8e3b00>"
      ]
     },
     "execution_count": 132,
     "metadata": {},
     "output_type": "execute_result"
    },
    {
     "data": {
      "image/png": "[encoded data removed]",
      "text/plain": [
       "<Figure size 720x504 with 1 Axes>"
      ]
     },
     "metadata": {},
     "output_type": "display_data"
    }
   ],
   "source": [
    "plt.figure(figsize=(10, 7))\n",
    "plt.hist([gb1.ddG, gb1.FX_ddG, gb1.IM_ddG, gb1.M_ddG,], label=['ddG', 'FX', 'IM', 'M'], bins=40);\n",
    "plt.legend()"
   ]
  }
 ],
 "metadata": {
  "kernelspec": {
   "display_name": "Python 3",
   "language": "python",
   "name": "python3"
  },
  "language_info": {
   "codemirror_mode": {
    "name": "ipython",
    "version": 3
   },
   "file_extension": ".py",
   "mimetype": "text/x-python",
   "name": "python",
   "nbconvert_exporter": "python",
   "pygments_lexer": "ipython3",
   "version": "3.6.5"
  }
 },
 "nbformat": 4,
 "nbformat_minor": 2
}
